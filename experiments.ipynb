{
  "nbformat": 4,
  "nbformat_minor": 0,
  "metadata": {
    "colab": {
      "name": "experiments.ipynb",
      "version": "0.3.2",
      "provenance": [],
      "private_outputs": true
    },
    "kernelspec": {
      "name": "python3",
      "display_name": "Python 3"
    }
  },
  "cells": [
    {
      "cell_type": "code",
      "metadata": {
        "id": "HIVfGhx3iZnU",
        "colab_type": "code",
        "colab": {}
      },
      "source": [
        "import numpy\n",
        "numpy.__version__"
      ],
      "execution_count": 0,
      "outputs": []
    }
  ]
}