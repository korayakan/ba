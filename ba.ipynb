{
 "cells": [
  {
   "cell_type": "code",
   "execution_count": null,
   "metadata": {},
   "outputs": [],
   "source": [
    "!pip install opencv-contrib-python\n",
    "!pip install fuzzywuzzy[speedup]\n",
    "!pip install torch torchvision"
   ]
  },
  {
   "cell_type": "code",
   "execution_count": null,
   "metadata": {},
   "outputs": [],
   "source": [
    "!rm -rf ba_dataset\n",
    "!git clone https://github.com/korayakan/ba_dataset.git"
   ]
  },
  {
   "cell_type": "code",
   "execution_count": null,
   "metadata": {},
   "outputs": [],
   "source": [
    "import numpy\n",
    "numpy.__version__"
   ]
  },
  {
   "cell_type": "code",
   "execution_count": null,
   "metadata": {},
   "outputs": [],
   "source": [
    "import matplotlib\n",
    "matplotlib.__version__"
   ]
  },
  {
   "cell_type": "code",
   "execution_count": null,
   "metadata": {},
   "outputs": [],
   "source": [
    "import cv2\n",
    "cv2.__version__"
   ]
  },
  {
   "cell_type": "code",
   "execution_count": null,
   "metadata": {},
   "outputs": [],
   "source": [
    "import torch\n",
    "torch.__version__"
   ]
  },
  {
   "cell_type": "code",
   "execution_count": null,
   "metadata": {},
   "outputs": [],
   "source": [
    "# for plotting\n",
    "import matplotlib.pyplot as plt\n",
    "\n",
    "# for json\n",
    "import json\n",
    "\n",
    "# for fuzzy string compariosn\n",
    "from fuzzywuzzy import fuzz\n",
    "from fuzzywuzzy import process\n",
    "\n",
    "# for encoding strings\n",
    "from zlib import crc32\n",
    "\n",
    "# for glob file search\n",
    "import glob"
   ]
  },
  {
   "cell_type": "code",
   "execution_count": null,
   "metadata": {},
   "outputs": [],
   "source": [
    "x=torch.rand(5, 3)\n",
    "print(x)"
   ]
  },
  {
   "cell_type": "code",
   "execution_count": null,
   "metadata": {},
   "outputs": [],
   "source": [
    "import os\n",
    "os.environ[\"CUDA_DEVICE_ORDER\"]=\"PCI_BUS_ID\"\n",
    "os.environ[\"CUDA_VISIBLE_DEVICES\"]=\"0\"  # to specify the GPU_id in the remote server\n",
    "\n",
    "from torchvision import transforms\n",
    "#from utils import *\n",
    "from PIL import Image, ImageDraw, ImageFont\n",
    "#from create_data_lists import *\n",
    "import os\n",
    "os.environ[\"CUDA_DEVICE_ORDER\"]=\"PCI_BUS_ID\"\n",
    "os.environ[\"CUDA_VISIBLE_DEVICES\"]=\"0\"  # to specify the GPU_id in the remote server\n",
    "\n",
    "import time\n",
    "import torch.backends.cudnn as cudnn\n",
    "import torch\n",
    "import torch.optim\n",
    "import torch.nn\n",
    "import torch.utils.data\n",
    "#from model import LSTMClassifier\n",
    "#from datasets import ICDARDataset #, PadSequence\n",
    "#from utils import *\n",
    "import numpy as np\n",
    "#from focalloss import *\n",
    "#from create_data_lists import parse_annotation\n",
    "#from train import val_accuracy"
   ]
  },
  {
   "cell_type": "code",
   "execution_count": null,
   "metadata": {},
   "outputs": [],
   "source": [
    "def get_filenames(path, suffix):\n",
    "    path=path + '/' if not path.endswith('/') else path\n",
    "    files=glob.glob(path + '*.' + suffix)\n",
    "    for idx, file in enumerate(files):\n",
    "        files[idx]=file.split(\"/\")[-1].replace('.txt', '')\n",
    "    return files\n",
    "\n",
    "def get_text_filenames(path):\n",
    "    return get_filenames(path, 'txt')\n",
    "\n",
    "def get_image_filenames(path):\n",
    "    return get_filenames(path, 'jpg')\n",
    "\n",
    "def read_text_file(path, filename):\n",
    "    path=path + '/' if not path.endswith('/') else path\n",
    "    text=''\n",
    "    with open(path + filename + '.txt') as file:\n",
    "        text=file.read()\n",
    "    return text\n",
    "\n",
    "def read_text_file_lines(path, filename):\n",
    "    path=path + '/' if not path.endswith('/') else path\n",
    "    lines=[]\n",
    "    with open(path + filename + '.txt') as file:\n",
    "        for line in file:\n",
    "            lines.append(line.rstrip('\\n'))\n",
    "    return lines\n",
    "\n",
    "def read_coordinates(path, filename):\n",
    "    text=read_text_file_lines(position_path, test)\n",
    "    coordinates=[]\n",
    "    for line in text:\n",
    "        tokens=line.split(',')\n",
    "        line_coordinates=list(map(int, tokens[0:8]))\n",
    "        line_text=','.join(tokens[8:])\n",
    "        line_coordinates.append(line_text)\n",
    "        coordinates.append(line_coordinates)\n",
    "    return coordinates\n",
    "\n",
    "def read_normalized_coordinates(path, filename, height, width):\n",
    "    coordinates=read_coordinates(path, filename)\n",
    "    for line in coordinates:\n",
    "        for x in range(0,8,2):\n",
    "            line[x]/=width\n",
    "        for x in range(1,8,2):\n",
    "            line[x]/=height\n",
    "        line.append(line[8])\n",
    "        line[8]=normalize_text(line[8])\n",
    "    return coordinates\n",
    "\n",
    "def read_image_file(path, filename):\n",
    "    path=path + '/' if not path.endswith('/') else path\n",
    "    img=cv2.imread(path + filename + '.jpg', 0)\n",
    "    return img\n",
    "\n",
    "def show_image(img):\n",
    "    plt.imshow(cv2.cvtColor(img, cv2.COLOR_BGR2RGB))\n",
    "    plt.show()\n",
    "\n",
    "def match_category(text, categories, categories_reverted):\n",
    "    category_values=list(categories.values())\n",
    "    category_guess=process.extractOne(text, category_values, scorer=fuzz.partial_ratio, score_cutoff=90)\n",
    "    category=''\n",
    "    if category_guess is not None:\n",
    "        category=categories_reverted[category_guess[0]]\n",
    "    return [category, encode_category(category)]\n",
    "\n",
    "def encode_category(category):\n",
    "    encoded=[]\n",
    "    if category == 'company':\n",
    "        encoded=[1,0,0,0]\n",
    "    elif category == 'date':\n",
    "        encoded=[0,1,0,0]\n",
    "    elif category == 'address':\n",
    "        encoded=[0,0,1,0]\n",
    "    elif category == 'total':\n",
    "        encoded=[0,0,0,1]\n",
    "    else:\n",
    "        encoded=[0,0,0,0]\n",
    "    return encoded\n",
    "\n",
    "def normalize_text(input, encoding=\"utf-8\"):\n",
    "    # see https://stackoverflow.com/questions/40351791/how-to-hash-strings-into-a-float-in-01\n",
    "    return float(crc32(input.encode(encoding)) & 0xffffffff) / 2**32"
   ]
  },
  {
   "cell_type": "code",
   "execution_count": null,
   "metadata": {},
   "outputs": [],
   "source": [
    "position_path='ba_dataset/SROIE2019/0325updated.task1train(626p)'\n",
    "category_path='ba_dataset/SROIE2019/0325updated.task2train(626p)'\n",
    "img_path=position_path"
   ]
  },
  {
   "cell_type": "code",
   "execution_count": null,
   "metadata": {},
   "outputs": [],
   "source": [
    "image_files=get_text_filenames(img_path)\n",
    "print('found {} image files'.format(len(image_files)))"
   ]
  },
  {
   "cell_type": "code",
   "execution_count": null,
   "metadata": {},
   "outputs": [],
   "source": [
    "position_files=get_text_filenames(position_path)\n",
    "print('found {} files with position data'.format(len(position_files)))"
   ]
  },
  {
   "cell_type": "code",
   "execution_count": null,
   "metadata": {},
   "outputs": [],
   "source": [
    "category_files=get_text_filenames(category_path)\n",
    "print('found {} files with category data'.format(len(category_files)))"
   ]
  },
  {
   "cell_type": "code",
   "execution_count": null,
   "metadata": {},
   "outputs": [],
   "source": [
    "filenames=list(set(image_files) & set(position_files) & set(category_files))\n",
    "filenames.sort()\n",
    "print('found {} files with position and category data'.format(len(filenames)))"
   ]
  },
  {
   "cell_type": "code",
   "execution_count": null,
   "metadata": {},
   "outputs": [],
   "source": [
    "test=filenames[0]"
   ]
  },
  {
   "cell_type": "code",
   "execution_count": null,
   "metadata": {},
   "outputs": [],
   "source": [
    "print('file {}'.format(test))\n",
    "img=read_image_file(img_path, test)\n",
    "height, width=img.shape[:2]\n",
    "print(str(height) + ' x ' + str(width) + ' pixels')\n",
    "show_image(img)\n",
    "print('categories:')\n",
    "text=read_text_file(category_path, test)\n",
    "print(text, '\\n')\n",
    "\n",
    "categories=json.loads(text)\n",
    "categories_reverted={v: k for k, v in categories.items()}\n",
    "\n",
    "print('positions:')\n",
    "coordinates=read_normalized_coordinates(position_path, test, height, width)\n",
    "for coordinate in coordinates:\n",
    "    coordinate_text=coordinate[9]\n",
    "    category=match_category(coordinate_text, categories, categories_reverted)\n",
    "    print(coordinate, category)"
   ]
  }
 ],
 "metadata": {
  "kernelspec": {
   "display_name": "Python 3",
   "language": "python",
   "name": "python3"
  },
  "language_info": {
   "codemirror_mode": {
    "name": "ipython",
    "version": 3
   },
   "file_extension": ".py",
   "mimetype": "text/x-python",
   "name": "python",
   "nbconvert_exporter": "python",
   "pygments_lexer": "ipython3",
   "version": "3.7.3"
  }
 },
 "nbformat": 4,
 "nbformat_minor": 2
}
