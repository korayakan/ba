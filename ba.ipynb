{
  "nbformat": 4,
  "nbformat_minor": 0,
  "metadata": {
    "colab": {
      "name": "ba.ipynb",
      "version": "0.3.2",
      "provenance": []
    },
    "language_info": {
      "codemirror_mode": {
        "name": "ipython",
        "version": 3
      },
      "file_extension": ".py",
      "mimetype": "text/x-python",
      "name": "python",
      "nbconvert_exporter": "python",
      "pygments_lexer": "ipython3",
      "version": "3.7.3"
    },
    "kernelspec": {
      "display_name": "Python 3",
      "language": "python",
      "name": "python3"
    }
  },
  "cells": [
    {
      "cell_type": "code",
      "metadata": {
        "id": "F_qFyMW1dLxw",
        "colab_type": "code",
        "colab": {
          "base_uri": "https://localhost:8080/",
          "height": 204
        },
        "outputId": "f3cd08bf-7d5c-4f2f-a67c-a4f05b35494f"
      },
      "source": [
        "!pip install opencv-contrib-python==4.1.0.25\n",
        "!pip install fuzzywuzzy[speedup]\n",
        "!pip install torch torchvision"
      ],
      "execution_count": 1,
      "outputs": [
        {
          "output_type": "stream",
          "text": [
            "Requirement already satisfied: opencv-contrib-python==4.1.0.25 in /usr/local/lib/python3.6/dist-packages (4.1.0.25)\n",
            "Requirement already satisfied: numpy>=1.11.3 in /usr/local/lib/python3.6/dist-packages (from opencv-contrib-python==4.1.0.25) (1.16.4)\n",
            "Requirement already satisfied: fuzzywuzzy[speedup] in /usr/local/lib/python3.6/dist-packages (0.17.0)\n",
            "Requirement already satisfied: python-levenshtein>=0.12; extra == \"speedup\" in /usr/local/lib/python3.6/dist-packages (from fuzzywuzzy[speedup]) (0.12.0)\n",
            "Requirement already satisfied: setuptools in /usr/local/lib/python3.6/dist-packages (from python-levenshtein>=0.12; extra == \"speedup\"->fuzzywuzzy[speedup]) (41.0.1)\n",
            "Requirement already satisfied: torch in /usr/local/lib/python3.6/dist-packages (1.1.0)\n",
            "Requirement already satisfied: torchvision in /usr/local/lib/python3.6/dist-packages (0.3.0)\n",
            "Requirement already satisfied: numpy in /usr/local/lib/python3.6/dist-packages (from torch) (1.16.4)\n",
            "Requirement already satisfied: pillow>=4.1.1 in /usr/local/lib/python3.6/dist-packages (from torchvision) (4.3.0)\n",
            "Requirement already satisfied: six in /usr/local/lib/python3.6/dist-packages (from torchvision) (1.12.0)\n",
            "Requirement already satisfied: olefile in /usr/local/lib/python3.6/dist-packages (from pillow>=4.1.1->torchvision) (0.46)\n"
          ],
          "name": "stdout"
        }
      ]
    },
    {
      "cell_type": "code",
      "metadata": {
        "id": "n3Hx4_x0dLx0",
        "colab_type": "code",
        "colab": {
          "base_uri": "https://localhost:8080/",
          "height": 153
        },
        "outputId": "f0d54e17-7142-41aa-8f88-3d0b86b25d1b"
      },
      "source": [
        "!rm -rf ba_dataset\n",
        "!git clone https://github.com/korayakan/ba_dataset.git"
      ],
      "execution_count": 2,
      "outputs": [
        {
          "output_type": "stream",
          "text": [
            "Cloning into 'ba_dataset'...\n",
            "remote: Enumerating objects: 2643, done.\u001b[K\n",
            "remote: Counting objects:   0% (1/2643)   \u001b[K\rremote: Counting objects:   1% (27/2643)   \u001b[K\rremote: Counting objects:   2% (53/2643)   \u001b[K\rremote: Counting objects:   3% (80/2643)   \u001b[K\rremote: Counting objects:   4% (106/2643)   \u001b[K\rremote: Counting objects:   5% (133/2643)   \u001b[K\rremote: Counting objects:   6% (159/2643)   \u001b[K\rremote: Counting objects:   7% (186/2643)   \u001b[K\rremote: Counting objects:   8% (212/2643)   \u001b[K\rremote: Counting objects:   9% (238/2643)   \u001b[K\rremote: Counting objects:  10% (265/2643)   \u001b[K\rremote: Counting objects:  11% (291/2643)   \u001b[K\rremote: Counting objects:  12% (318/2643)   \u001b[K\rremote: Counting objects:  13% (344/2643)   \u001b[K\rremote: Counting objects:  14% (371/2643)   \u001b[K\rremote: Counting objects:  15% (397/2643)   \u001b[K\rremote: Counting objects:  16% (423/2643)   \u001b[K\rremote: Counting objects:  17% (450/2643)   \u001b[K\rremote: Counting objects:  18% (476/2643)   \u001b[K\rremote: Counting objects:  19% (503/2643)   \u001b[K\rremote: Counting objects:  20% (529/2643)   \u001b[K\rremote: Counting objects:  21% (556/2643)   \u001b[K\rremote: Counting objects:  22% (582/2643)   \u001b[K\rremote: Counting objects:  23% (608/2643)   \u001b[K\rremote: Counting objects:  24% (635/2643)   \u001b[K\rremote: Counting objects:  25% (661/2643)   \u001b[K\rremote: Counting objects:  26% (688/2643)   \u001b[K\rremote: Counting objects:  27% (714/2643)   \u001b[K\rremote: Counting objects:  28% (741/2643)   \u001b[K\rremote: Counting objects:  29% (767/2643)   \u001b[K\rremote: Counting objects:  30% (793/2643)   \u001b[K\rremote: Counting objects:  31% (820/2643)   \u001b[K\rremote: Counting objects:  32% (846/2643)   \u001b[K\rremote: Counting objects:  33% (873/2643)   \u001b[K\rremote: Counting objects:  34% (899/2643)   \u001b[K\rremote: Counting objects:  35% (926/2643)   \u001b[K\rremote: Counting objects:  36% (952/2643)   \u001b[K\rremote: Counting objects:  37% (978/2643)   \u001b[K\rremote: Counting objects:  38% (1005/2643)   \u001b[K\rremote: Counting objects:  39% (1031/2643)   \u001b[K\rremote: Counting objects:  40% (1058/2643)   \u001b[K\rremote: Counting objects:  41% (1084/2643)   \u001b[K\rremote: Counting objects:  42% (1111/2643)   \u001b[K\rremote: Counting objects:  43% (1137/2643)   \u001b[K\rremote: Counting objects:  44% (1163/2643)   \u001b[K\rremote: Counting objects:  45% (1190/2643)   \u001b[K\rremote: Counting objects:  46% (1216/2643)   \u001b[K\rremote: Counting objects:  47% (1243/2643)   \u001b[K\rremote: Counting objects:  48% (1269/2643)   \u001b[K\rremote: Counting objects:  49% (1296/2643)   \u001b[K\rremote: Counting objects:  50% (1322/2643)   \u001b[K\rremote: Counting objects:  51% (1348/2643)   \u001b[K\rremote: Counting objects:  52% (1375/2643)   \u001b[K\rremote: Counting objects:  53% (1401/2643)   \u001b[K\rremote: Counting objects:  54% (1428/2643)   \u001b[K\rremote: Counting objects:  55% (1454/2643)   \u001b[K\rremote: Counting objects:  56% (1481/2643)   \u001b[K\rremote: Counting objects:  57% (1507/2643)   \u001b[K\rremote: Counting objects:  58% (1533/2643)   \u001b[K\rremote: Counting objects:  59% (1560/2643)   \u001b[K\rremote: Counting objects:  60% (1586/2643)   \u001b[K\rremote: Counting objects:  61% (1613/2643)   \u001b[K\rremote: Counting objects:  62% (1639/2643)   \u001b[K\rremote: Counting objects:  63% (1666/2643)   \u001b[K\rremote: Counting objects:  64% (1692/2643)   \u001b[K\rremote: Counting objects:  65% (1718/2643)   \u001b[K\rremote: Counting objects:  66% (1745/2643)   \u001b[K\rremote: Counting objects:  67% (1771/2643)   \u001b[K\rremote: Counting objects:  68% (1798/2643)   \u001b[K\rremote: Counting objects:  69% (1824/2643)   \u001b[K\rremote: Counting objects:  70% (1851/2643)   \u001b[K\rremote: Counting objects:  71% (1877/2643)   \u001b[K\rremote: Counting objects:  72% (1903/2643)   \u001b[K\rremote: Counting objects:  73% (1930/2643)   \u001b[K\rremote: Counting objects:  74% (1956/2643)   \u001b[K\rremote: Counting objects:  75% (1983/2643)   \u001b[K\rremote: Counting objects:  76% (2009/2643)   \u001b[K\rremote: Counting objects:  77% (2036/2643)   \u001b[K\rremote: Counting objects:  78% (2062/2643)   \u001b[K\rremote: Counting objects:  79% (2088/2643)   \u001b[K\rremote: Counting objects:  80% (2115/2643)   \u001b[K\rremote: Counting objects:  81% (2141/2643)   \u001b[K\rremote: Counting objects:  82% (2168/2643)   \u001b[K\rremote: Counting objects:  83% (2194/2643)   \u001b[K\rremote: Counting objects:  84% (2221/2643)   \u001b[K\rremote: Counting objects:  85% (2247/2643)   \u001b[K\rremote: Counting objects:  86% (2273/2643)   \u001b[K\rremote: Counting objects:  87% (2300/2643)   \u001b[K\rremote: Counting objects:  88% (2326/2643)   \u001b[K\rremote: Counting objects:  89% (2353/2643)   \u001b[K\rremote: Counting objects:  90% (2379/2643)   \u001b[K\rremote: Counting objects:  91% (2406/2643)   \u001b[K\rremote: Counting objects:  92% (2432/2643)   \u001b[K\rremote: Counting objects:  93% (2458/2643)   \u001b[K\rremote: Counting objects:  94% (2485/2643)   \u001b[K\rremote: Counting objects:  95% (2511/2643)   \u001b[K\rremote: Counting objects:  96% (2538/2643)   \u001b[K\rremote: Counting objects:  97% (2564/2643)   \u001b[K\rremote: Counting objects:  98% (2591/2643)   \u001b[K\rremote: Counting objects:  99% (2617/2643)   \u001b[K\rremote: Counting objects: 100% (2643/2643)   \u001b[K\rremote: Counting objects: 100% (2643/2643), done.\u001b[K\n",
            "remote: Compressing objects: 100% (2589/2589), done.\u001b[K\n",
            "remote: Total 2643 (delta 52), reused 2639 (delta 51), pack-reused 0\u001b[K\n",
            "Receiving objects: 100% (2643/2643), 448.27 MiB | 33.52 MiB/s, done.\n",
            "Resolving deltas: 100% (52/52), done.\n",
            "Checking out files: 100% (4228/4228), done.\n"
          ],
          "name": "stdout"
        }
      ]
    },
    {
      "cell_type": "code",
      "metadata": {
        "id": "DDck6UO-dLx2",
        "colab_type": "code",
        "colab": {
          "base_uri": "https://localhost:8080/",
          "height": 34
        },
        "outputId": "a439ee3b-7118-4cf5-f1de-955179b36382"
      },
      "source": [
        "import numpy\n",
        "numpy.__version__"
      ],
      "execution_count": 3,
      "outputs": [
        {
          "output_type": "execute_result",
          "data": {
            "text/plain": [
              "'1.16.4'"
            ]
          },
          "metadata": {
            "tags": []
          },
          "execution_count": 3
        }
      ]
    },
    {
      "cell_type": "code",
      "metadata": {
        "id": "QgFrdxBwdLx4",
        "colab_type": "code",
        "colab": {
          "base_uri": "https://localhost:8080/",
          "height": 34
        },
        "outputId": "c57ac3c7-6f86-42bf-d741-4559596935c2"
      },
      "source": [
        "import matplotlib\n",
        "matplotlib.__version__"
      ],
      "execution_count": 4,
      "outputs": [
        {
          "output_type": "execute_result",
          "data": {
            "text/plain": [
              "'3.0.3'"
            ]
          },
          "metadata": {
            "tags": []
          },
          "execution_count": 4
        }
      ]
    },
    {
      "cell_type": "code",
      "metadata": {
        "id": "L3M7JPRadLx6",
        "colab_type": "code",
        "colab": {
          "base_uri": "https://localhost:8080/",
          "height": 34
        },
        "outputId": "fc310b9a-b178-408f-ac8c-3a8c54f610af"
      },
      "source": [
        "import cv2\n",
        "cv2.__version__"
      ],
      "execution_count": 5,
      "outputs": [
        {
          "output_type": "execute_result",
          "data": {
            "text/plain": [
              "'4.1.0'"
            ]
          },
          "metadata": {
            "tags": []
          },
          "execution_count": 5
        }
      ]
    },
    {
      "cell_type": "code",
      "metadata": {
        "id": "YkvdosPDdLx8",
        "colab_type": "code",
        "colab": {
          "base_uri": "https://localhost:8080/",
          "height": 34
        },
        "outputId": "62820265-ef57-4a87-e8e3-e29739c3ebac"
      },
      "source": [
        "import torch\n",
        "torch.__version__"
      ],
      "execution_count": 6,
      "outputs": [
        {
          "output_type": "execute_result",
          "data": {
            "text/plain": [
              "'1.1.0'"
            ]
          },
          "metadata": {
            "tags": []
          },
          "execution_count": 6
        }
      ]
    },
    {
      "cell_type": "code",
      "metadata": {
        "id": "M3fr0ca3dLx-",
        "colab_type": "code",
        "colab": {}
      },
      "source": [
        "# for plotting\n",
        "import matplotlib.pyplot as plt\n",
        "\n",
        "# for json\n",
        "import json\n",
        "\n",
        "# for fuzzy string compariosn\n",
        "from fuzzywuzzy import fuzz\n",
        "from fuzzywuzzy import process\n",
        "\n",
        "# for encoding strings\n",
        "from zlib import crc32\n",
        "\n",
        "# for glob file search\n",
        "import glob"
      ],
      "execution_count": 0,
      "outputs": []
    },
    {
      "cell_type": "code",
      "metadata": {
        "id": "-5K3IhqUdLyB",
        "colab_type": "code",
        "colab": {
          "base_uri": "https://localhost:8080/",
          "height": 102
        },
        "outputId": "2d064371-fa13-4157-d28c-f692b838d95d"
      },
      "source": [
        "x=torch.rand(5, 3)\n",
        "print(x)"
      ],
      "execution_count": 8,
      "outputs": [
        {
          "output_type": "stream",
          "text": [
            "tensor([[0.9036, 0.5011, 0.9429],\n",
            "        [0.2604, 0.1428, 0.8123],\n",
            "        [0.9320, 0.4013, 0.5270],\n",
            "        [0.3096, 0.9153, 0.6187],\n",
            "        [0.4508, 0.9545, 0.0257]])\n"
          ],
          "name": "stdout"
        }
      ]
    },
    {
      "cell_type": "code",
      "metadata": {
        "id": "z53XONw_dLyD",
        "colab_type": "code",
        "colab": {}
      },
      "source": [
        "import os\n",
        "os.environ[\"CUDA_DEVICE_ORDER\"]=\"PCI_BUS_ID\"\n",
        "os.environ[\"CUDA_VISIBLE_DEVICES\"]=\"0\"  # to specify the GPU_id in the remote server\n",
        "\n",
        "from torchvision import transforms\n",
        "#from utils import *\n",
        "from PIL import Image, ImageDraw, ImageFont\n",
        "#from create_data_lists import *\n",
        "import os\n",
        "os.environ[\"CUDA_DEVICE_ORDER\"]=\"PCI_BUS_ID\"\n",
        "os.environ[\"CUDA_VISIBLE_DEVICES\"]=\"0\"  # to specify the GPU_id in the remote server\n",
        "\n",
        "import time\n",
        "import torch.backends.cudnn as cudnn\n",
        "import torch\n",
        "import torch.optim\n",
        "import torch.nn\n",
        "import torch.utils.data\n",
        "#from model import LSTMClassifier\n",
        "#from datasets import ICDARDataset #, PadSequence\n",
        "#from utils import *\n",
        "import numpy as np\n",
        "#from focalloss import *\n",
        "#from create_data_lists import parse_annotation\n",
        "#from train import val_accuracy"
      ],
      "execution_count": 0,
      "outputs": []
    },
    {
      "cell_type": "code",
      "metadata": {
        "id": "bQZGkVK5dLyG",
        "colab_type": "code",
        "colab": {}
      },
      "source": [
        "def get_filenames(path, suffix):\n",
        "    path=path + '/' if not path.endswith('/') else path\n",
        "    files=glob.glob(path + '*.' + suffix)\n",
        "    for idx, file in enumerate(files):\n",
        "        files[idx]=file.split(\"/\")[-1].replace('.txt', '')\n",
        "    return files\n",
        "\n",
        "def get_text_filenames(path):\n",
        "    return get_filenames(path, 'txt')\n",
        "\n",
        "def get_image_filenames(path):\n",
        "    return get_filenames(path, 'jpg')\n",
        "\n",
        "def read_text_file(path, filename):\n",
        "    path=path + '/' if not path.endswith('/') else path\n",
        "    text=''\n",
        "    with open(path + filename + '.txt') as file:\n",
        "        text=file.read()\n",
        "    return text\n",
        "\n",
        "def read_text_file_lines(path, filename):\n",
        "    path=path + '/' if not path.endswith('/') else path\n",
        "    lines=[]\n",
        "    with open(path + filename + '.txt') as file:\n",
        "        for line in file:\n",
        "            lines.append(line.rstrip('\\n'))\n",
        "    return lines\n",
        "\n",
        "def read_coordinates(path, filename):\n",
        "    text=read_text_file_lines(position_path, test)\n",
        "    coordinates=[]\n",
        "    for line in text:\n",
        "        tokens=line.split(',')\n",
        "        line_coordinates=list(map(int, tokens[0:8]))\n",
        "        line_text=','.join(tokens[8:])\n",
        "        line_coordinates.append(line_text)\n",
        "        coordinates.append(line_coordinates)\n",
        "    return coordinates\n",
        "\n",
        "def read_normalized_coordinates(path, filename, height, width):\n",
        "    coordinates=read_coordinates(path, filename)\n",
        "    for line in coordinates:\n",
        "        for x in range(0,8,2):\n",
        "            line[x]/=width\n",
        "        for x in range(1,8,2):\n",
        "            line[x]/=height\n",
        "        line.append(line[8])\n",
        "        line[8]=normalize_text(line[8])\n",
        "    return coordinates\n",
        "\n",
        "def read_image_file(path, filename):\n",
        "    path=path + '/' if not path.endswith('/') else path\n",
        "    img=cv2.imread(path + filename + '.jpg', 0)\n",
        "    return img\n",
        "\n",
        "def show_image(img):\n",
        "    plt.imshow(cv2.cvtColor(img, cv2.COLOR_BGR2RGB))\n",
        "    plt.show()\n",
        "\n",
        "def match_category(text, categories, categories_reverted):\n",
        "    category_values=list(categories.values())\n",
        "    category_guess=process.extractOne(text, category_values, scorer=fuzz.partial_ratio, score_cutoff=90)\n",
        "    category=''\n",
        "    if category_guess is not None:\n",
        "        category=categories_reverted[category_guess[0]]\n",
        "    return [category, encode_category(category)]\n",
        "\n",
        "def encode_category(category):\n",
        "    encoded=[]\n",
        "    if category == 'company':\n",
        "        encoded=[1,0,0,0]\n",
        "    elif category == 'date':\n",
        "        encoded=[0,1,0,0]\n",
        "    elif category == 'address':\n",
        "        encoded=[0,0,1,0]\n",
        "    elif category == 'total':\n",
        "        encoded=[0,0,0,1]\n",
        "    else:\n",
        "        encoded=[0,0,0,0]\n",
        "    return encoded\n",
        "\n",
        "def normalize_text(input, encoding=\"utf-8\"):\n",
        "    # see https://stackoverflow.com/questions/40351791/how-to-hash-strings-into-a-float-in-01\n",
        "    return float(crc32(input.encode(encoding)) & 0xffffffff) / 2**32"
      ],
      "execution_count": 0,
      "outputs": []
    },
    {
      "cell_type": "code",
      "metadata": {
        "id": "Eqird9Y5dLyK",
        "colab_type": "code",
        "colab": {}
      },
      "source": [
        "position_path='ba_dataset/SROIE2019/0325updated.task1train(626p)'\n",
        "category_path='ba_dataset/SROIE2019/0325updated.task2train(626p)'\n",
        "img_path=position_path"
      ],
      "execution_count": 0,
      "outputs": []
    },
    {
      "cell_type": "code",
      "metadata": {
        "id": "VQM4kECYdLyM",
        "colab_type": "code",
        "colab": {
          "base_uri": "https://localhost:8080/",
          "height": 34
        },
        "outputId": "14826d5e-efec-4661-b5fd-5d9c0515188e"
      },
      "source": [
        "image_files=get_text_filenames(img_path)\n",
        "print('found {} image files'.format(len(image_files)))"
      ],
      "execution_count": 12,
      "outputs": [
        {
          "output_type": "stream",
          "text": [
            "found 835 image files\n"
          ],
          "name": "stdout"
        }
      ]
    },
    {
      "cell_type": "code",
      "metadata": {
        "id": "c5CkteoSdLyN",
        "colab_type": "code",
        "colab": {
          "base_uri": "https://localhost:8080/",
          "height": 34
        },
        "outputId": "6f1ac16c-c476-4614-9b4f-e938cec23698"
      },
      "source": [
        "position_files=get_text_filenames(position_path)\n",
        "print('found {} files with position data'.format(len(position_files)))"
      ],
      "execution_count": 13,
      "outputs": [
        {
          "output_type": "stream",
          "text": [
            "found 835 files with position data\n"
          ],
          "name": "stdout"
        }
      ]
    },
    {
      "cell_type": "code",
      "metadata": {
        "id": "NVexGSexdLyP",
        "colab_type": "code",
        "colab": {
          "base_uri": "https://localhost:8080/",
          "height": 34
        },
        "outputId": "383ca3ab-7f97-44df-b13d-f6691b42ee90"
      },
      "source": [
        "category_files=get_text_filenames(category_path)\n",
        "print('found {} files with category data'.format(len(category_files)))"
      ],
      "execution_count": 14,
      "outputs": [
        {
          "output_type": "stream",
          "text": [
            "found 876 files with category data\n"
          ],
          "name": "stdout"
        }
      ]
    },
    {
      "cell_type": "code",
      "metadata": {
        "id": "QOR7adsEdLyR",
        "colab_type": "code",
        "colab": {
          "base_uri": "https://localhost:8080/",
          "height": 34
        },
        "outputId": "a5ac37f6-9b5a-4247-e971-a843dfd3a643"
      },
      "source": [
        "filenames=list(set(image_files) & set(position_files) & set(category_files))\n",
        "filenames.sort()\n",
        "print('found {} files with position and category data'.format(len(filenames)))"
      ],
      "execution_count": 15,
      "outputs": [
        {
          "output_type": "stream",
          "text": [
            "found 716 files with position and category data\n"
          ],
          "name": "stdout"
        }
      ]
    },
    {
      "cell_type": "code",
      "metadata": {
        "id": "95kGgh7bdLyT",
        "colab_type": "code",
        "colab": {}
      },
      "source": [
        "test=filenames[0]"
      ],
      "execution_count": 0,
      "outputs": []
    },
    {
      "cell_type": "code",
      "metadata": {
        "id": "7uB5zFVrdLyV",
        "colab_type": "code",
        "colab": {
          "base_uri": "https://localhost:8080/",
          "height": 1000
        },
        "outputId": "e747883a-a805-4f89-d14a-382c5bb72f4b"
      },
      "source": [
        "print('file {}'.format(test))\n",
        "img=read_image_file(img_path, test)\n",
        "height, width=img.shape[:2]\n",
        "print(str(height) + ' x ' + str(width) + ' pixels')\n",
        "show_image(img)\n",
        "print('categories:')\n",
        "text=read_text_file(category_path, test)\n",
        "print(text, '\\n')\n",
        "\n",
        "categories=json.loads(text)\n",
        "categories_reverted={v: k for k, v in categories.items()}\n",
        "\n",
        "print('positions:')\n",
        "coordinates=read_normalized_coordinates(position_path, test, height, width)\n",
        "for coordinate in coordinates:\n",
        "    coordinate_text=coordinate[9]\n",
        "    category=match_category(coordinate_text, categories, categories_reverted)\n",
        "    print(coordinate, category)"
      ],
      "execution_count": 17,
      "outputs": [
        {
          "output_type": "stream",
          "text": [
            "file X00016469612\n",
            "1013 x 463 pixels\n"
          ],
          "name": "stdout"
        },
        {
          "output_type": "display_data",
          "data": {
            "image/png": "[encoded data removed]",
            "text/plain": [
              "<Figure size 432x288 with 1 Axes>"
            ]
          },
          "metadata": {
            "tags": []
          }
        },
        {
          "output_type": "stream",
          "text": [
            "WARNING:root:Applied processor reduces input query to empty string, all comparisons will have score 0. [Query: '*']\n",
            "WARNING:root:Applied processor reduces input query to empty string, all comparisons will have score 0. [Query: '***']\n",
            "WARNING:root:Applied processor reduces input query to empty string, all comparisons will have score 0. [Query: '***']\n"
          ],
          "name": "stderr"
        },
        {
          "output_type": "stream",
          "text": [
            "categories:\n",
            "{\n",
            "    \"company\": \"BOOK TA .K (TAMAN DAYA) SDN BHD\",\n",
            "    \"date\": \"25/12/2018\",\n",
            "    \"address\": \"NO.53 55,57 & 59, JALAN SAGU 18, TAMAN DAYA, 81100 JOHOR BAHRU, JOHOR.\",\n",
            "    \"total\": \"9.00\"\n",
            "} \n",
            "\n",
            "positions:\n",
            "[0.15550755939524838, 0.024679170779861797, 0.7041036717062635, 0.024679170779861797, 0.7041036717062635, 0.0631786771964462, 0.15550755939524838, 0.0631786771964462, 0.2441371357999742, 'TAN WOON YANN'] ['', [0, 0, 0, 0]]\n",
            "[0.1079913606911447, 0.08094768015794669, 0.9503239740820735, 0.08094768015794669, 0.9503239740820735, 0.1194471865745311, 0.1079913606911447, 0.1194471865745311, 0.7220568691845983, 'BOOK TA .K(TAMAN DAYA) SDN BND'] ['company', [1, 0, 0, 0]]\n",
            "[0.4427645788336933, 0.1194471865745311, 0.6155507559395248, 0.1194471865745311, 0.6155507559395248, 0.1372161895360316, 0.4427645788336933, 0.1372161895360316, 0.7300541666336358, '789417-W'] ['', [0, 0, 0, 0]]\n",
            "[0.23758099352051837, 0.14215202369200394, 0.8272138228941684, 0.14215202369200394, 0.8272138228941684, 0.16090819348469892, 0.23758099352051837, 0.16090819348469892, 0.5235033857170492, 'NO.53 55,57 & 59, JALAN SAGU 18,'] ['address', [0, 0, 1, 0]]\n",
            "[0.4146868250539957, 0.16683119447186576, 0.6457883369330454, 0.16683119447186576, 0.6457883369330454, 0.18460019743336623, 0.4146868250539957, 0.18460019743336623, 0.24179987143725157, 'TAMAN DAYA,'] ['company', [1, 0, 0, 0]]\n",
            "[0.34989200863930886, 0.19052319842053306, 0.7213822894168467, 0.19052319842053306, 0.7213822894168467, 0.20829220138203355, 0.34989200863930886, 0.20829220138203355, 0.11755360336974263, '81100 JOHOR BAHRU,'] ['address', [0, 0, 1, 0]]\n",
            "[0.468682505399568, 0.21322803553800593, 0.593952483801296, 0.21322803553800593, 0.593952483801296, 0.23000987166831194, 0.468682505399568, 0.23000987166831194, 0.7055634872522205, 'JOHOR.'] ['address', [0, 0, 1, 0]]\n",
            "[0.1079913606911447, 0.3376110562685094, 0.6025917926565875, 0.3376110562685094, 0.6025917926565875, 0.3543928923988154, 0.1079913606911447, 0.3543928923988154, 0.21697378414683044, 'DOCUMENT NO : TD01167104'] ['', [0, 0, 0, 0]]\n",
            "[0.1079913606911447, 0.36722606120434353, 0.20734341252699784, 0.36722606120434353, 0.20734341252699784, 0.384995064165844, 0.1079913606911447, 0.384995064165844, 0.4074527216143906, 'DATE:'] ['', [0, 0, 0, 0]]\n",
            "[0.3563714902807775, 0.36722606120434353, 0.7386609071274298, 0.36722606120434353, 0.7386609071274298, 0.3840078973346496, 0.3563714902807775, 0.3840078973346496, 0.9385672265198082, '25/12/2018 8:13:39 PM'] ['date', [0, 1, 0, 0]]\n",
            "[0.10367170626349892, 0.39091806515301086, 0.2526997840172786, 0.39091806515301086, 0.2526997840172786, 0.4096742349457058, 0.10367170626349892, 0.4096742349457058, 0.10976716945879161, 'CASHIER:'] ['', [0, 0, 0, 0]]\n",
            "[0.3542116630669546, 0.39190523198420535, 0.46436285097192226, 0.39190523198420535, 0.46436285097192226, 0.4076999012833169, 0.3542116630669546, 0.4076999012833169, 0.9226684842724353, 'MANIS'] ['', [0, 0, 0, 0]]\n",
            "[0.10583153347732181, 0.4175715695952616, 0.2634989200863931, 0.4175715695952616, 0.2634989200863931, 0.43435340572556763, 0.10583153347732181, 0.43435340572556763, 0.30682308063842356, 'MEMBER:'] ['', [0, 0, 0, 0]]\n",
            "[0.41252699784017277, 0.45409674234945707, 0.6436285097192225, 0.45409674234945707, 0.6436285097192225, 0.4698914116485686, 0.41252699784017277, 0.4698914116485686, 0.7232450533192605, 'CASH BILL'] ['', [0, 0, 0, 0]]\n",
            "[0.06479481641468683, 0.5014807502467917, 0.2613390928725702, 0.5014807502467917, 0.2613390928725702, 0.5162882527147088, 0.06479481641468683, 0.5162882527147088, 0.25608966895379126, 'CODE/DESC'] ['', [0, 0, 0, 0]]\n",
            "[0.4319654427645788, 0.5004935834155972, 0.5334773218142549, 0.5004935834155972, 0.5334773218142549, 0.5143139190523198, 0.4319654427645788, 0.5143139190523198, 0.24067499698139727, 'PRICE'] ['', [0, 0, 0, 0]]\n",
            "[0.5961123110151187, 0.49950641658440276, 0.6609071274298056, 0.49950641658440276, 0.6609071274298056, 0.5153010858835143, 0.5961123110151187, 0.5153010858835143, 0.20402100775390863, 'DISC'] ['', [0, 0, 0, 0]]\n",
            "[0.8077753779697624, 0.5004935834155972, 0.9524838012958964, 0.5004935834155972, 0.9524838012958964, 0.5143139190523198, 0.8077753779697624, 0.5143139190523198, 0.49355648551136255, 'AMOUNT'] ['', [0, 0, 0, 0]]\n",
            "[0.1490280777537797, 0.5241855873642646, 0.2203023758099352, 0.5241855873642646, 0.2203023758099352, 0.5429417571569596, 0.1490280777537797, 0.5429417571569596, 0.3686511863488704, 'QTY'] ['', [0, 0, 0, 0]]\n",
            "[0.4773218142548596, 0.5241855873642646, 0.5334773218142549, 0.5241855873642646, 0.5334773218142549, 0.5380059230009872, 0.4773218142548596, 0.5380059230009872, 0.7547769555822015, 'RM'] ['', [0, 0, 0, 0]]\n",
            "[0.9071274298056156, 0.5222112537018756, 0.9568034557235421, 0.5222112537018756, 0.9568034557235421, 0.5399802566633761, 0.9071274298056156, 0.5399802566633761, 0.7547769555822015, 'RM'] ['', [0, 0, 0, 0]]\n",
            "[0.058315334773218146, 0.562685093780849, 0.2958963282937365, 0.562685093780849, 0.2958963282937365, 0.5755182625863771, 0.058315334773218146, 0.5755182625863771, 0.0286833718419075, '9556939040116'] ['', [0, 0, 0, 0]]\n",
            "[0.3434125269978402, 0.562685093780849, 0.8552915766738661, 0.562685093780849, 0.8552915766738661, 0.5765054294175715, 0.3434125269978402, 0.5765054294175715, 0.7206953808199614, 'KF MODELLING CLAY KIDDY FISH'] ['', [0, 0, 0, 0]]\n",
            "[0.16630669546436286, 0.5903257650542941, 0.24406047516198703, 0.5903257650542941, 0.24406047516198703, 0.6051332675222113, 0.16630669546436286, 0.6051332675222113, 0.01929159602150321, '1 PC'] ['', [0, 0, 0, 0]]\n",
            "[0.2980561555075594, 0.5893385982230998, 0.31965442764578833, 0.5893385982230998, 0.31965442764578833, 0.5992102665350444, 0.2980561555075594, 0.5992102665350444, 0.03798141214065254, '*'] ['', [0, 0, 0, 0]]\n",
            "[0.43628509719222464, 0.5893385982230998, 0.5291576673866091, 0.5893385982230998, 0.5291576673866091, 0.6041461006910168, 0.43628509719222464, 0.6041461006910168, 0.9649976585060358, '9.000'] ['total', [0, 0, 0, 1]]\n",
            "[0.593952483801296, 0.5903257650542941, 0.6673866090712743, 0.5903257650542941, 0.6673866090712743, 0.6041461006910168, 0.593952483801296, 0.6041461006910168, 0.10210097022354603, '0.00'] ['', [0, 0, 0, 0]]\n",
            "[0.8876889848812095, 0.5883514313919053, 0.9568034557235421, 0.5883514313919053, 0.9568034557235421, 0.6051332675222113, 0.8876889848812095, 0.6051332675222113, 0.40300020622089505, '9.00'] ['total', [0, 0, 0, 1]]\n",
            "[0.5291576673866091, 0.6307996051332675, 0.6328293736501079, 0.6307996051332675, 0.6328293736501079, 0.6495557749259625, 0.5291576673866091, 0.6495557749259625, 0.326316975755617, 'TOTAL:'] ['', [0, 0, 0, 0]]\n",
            "[0.2548596112311015, 0.6623889437314906, 0.6285097192224622, 0.6623889437314906, 0.6285097192224622, 0.6781836130306022, 0.2548596112311015, 0.6781836130306022, 0.647112222854048, 'ROUR DING ADJUSTMENT:'] ['', [0, 0, 0, 0]]\n",
            "[0.8812095032397408, 0.6604146100691016, 0.9568034557235421, 0.6604146100691016, 0.9568034557235421, 0.6752221125370188, 0.8812095032397408, 0.6752221125370188, 0.10210097022354603, '0.00'] ['', [0, 0, 0, 0]]\n",
            "[0.1857451403887689, 0.6949654491609082, 0.6306695464362851, 0.6949654491609082, 0.6306695464362851, 0.7137216189536032, 0.1857451403887689, 0.7137216189536032, 0.4033562829717994, 'ROUND D TOTAL (RM):'] ['', [0, 0, 0, 0]]\n",
            "[0.8660907127429806, 0.6939782823297137, 0.9568034557235421, 0.6939782823297137, 0.9568034557235421, 0.7097729516288253, 0.8660907127429806, 0.7097729516288253, 0.40300020622089505, '9.00'] ['total', [0, 0, 0, 1]]\n",
            "[0.4427645788336933, 0.7344521224086871, 0.5248380129589633, 0.7344521224086871, 0.5248380129589633, 0.7551826258637709, 0.4427645788336933, 0.7551826258637709, 0.18817186658270657, 'CASH'] ['', [0, 0, 0, 0]]\n",
            "[0.8682505399568035, 0.7384007897334649, 0.9524838012958964, 0.7384007897334649, 0.9524838012958964, 0.7532082922013821, 0.8682505399568035, 0.7532082922013821, 0.37898178375326097, '10.00'] ['', [0, 0, 0, 0]]\n",
            "[0.4427645788336933, 0.7601184600197434, 0.5853131749460043, 0.7601184600197434, 0.5853131749460043, 0.7778874629812438, 0.4427645788336933, 0.7778874629812438, 0.6901737242005765, 'CHANGE'] ['', [0, 0, 0, 0]]\n",
            "[0.8898488120950324, 0.7620927936821322, 0.9568034557235421, 0.7620927936821322, 0.9568034557235421, 0.7759131293188549, 0.8898488120950324, 0.7759131293188549, 0.6352413550484926, '1.00'] ['', [0, 0, 0, 0]]\n",
            "[0.20950323974082075, 0.8341559723593287, 0.8660907127429806, 0.8341559723593287, 0.8660907127429806, 0.8489634748272458, 0.20950323974082075, 0.8489634748272458, 0.4342651297338307, 'GOODS SOLD ARE NOT RETURNABLE OR'] ['', [0, 0, 0, 0]]\n",
            "[0.4103671706263499, 0.8529121421520237, 0.6673866090712743, 0.8529121421520237, 0.6673866090712743, 0.8687068114511353, 0.4103671706263499, 0.8687068114511353, 0.4694646019488573, 'EXCHANGEABLE'] ['', [0, 0, 0, 0]]\n",
            "[0.30669546436285094, 0.8716683119447186, 0.7624190064794817, 0.8716683119447186, 0.7624190064794817, 0.8894373149062191, 0.30669546436285094, 0.8894373149062191, 0.49333380768075585, '***'] ['', [0, 0, 0, 0]]\n",
            "[0.2958963282937365, 0.8914116485686081, 0.7580993520518359, 0.8914116485686081, 0.7580993520518359, 0.9081934846989141, 0.2958963282937365, 0.9081934846989141, 0.49333380768075585, '***'] ['', [0, 0, 0, 0]]\n",
            "[0.43628509719222464, 0.9299111549851925, 0.6306695464362851, 0.9299111549851925, 0.6306695464362851, 0.9466929911154985, 0.43628509719222464, 0.9466929911154985, 0.39254651707597077, 'THANK YOU'] ['', [0, 0, 0, 0]]\n",
            "[0.35205183585313177, 0.9496544916090819, 0.712742980561555, 0.9496544916090819, 0.712742980561555, 0.9644619940769991, 0.35205183585313177, 0.9644619940769991, 0.21272583678364754, 'PLEASE COME AGAIN !'] ['', [0, 0, 0, 0]]\n",
            "[0.8898488120950324, 0.6307996051332675, 0.9546436285097192, 0.6307996051332675, 0.9546436285097192, 0.6456071076011846, 0.8898488120950324, 0.6456071076011846, 0.40300020622089505, '9.00'] ['total', [0, 0, 0, 1]]\n"
          ],
          "name": "stdout"
        }
      ]
    }
  ]
}